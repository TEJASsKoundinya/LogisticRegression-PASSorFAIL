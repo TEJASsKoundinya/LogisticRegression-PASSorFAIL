{
 "cells": [
  {
   "cell_type": "markdown",
   "id": "9cb73734",
   "metadata": {
    "papermill": {
     "duration": 0.011857,
     "end_time": "2022-01-06T14:09:00.714382",
     "exception": false,
     "start_time": "2022-01-06T14:09:00.702525",
     "status": "completed"
    },
    "tags": []
   },
   "source": [
    "# Logistic regression on student test"
   ]
  },
  {
   "cell_type": "code",
   "execution_count": 1,
   "id": "0e87912e",
   "metadata": {
    "execution": {
     "iopub.execute_input": "2022-01-06T14:09:00.741216Z",
     "iopub.status.busy": "2022-01-06T14:09:00.740048Z",
     "iopub.status.idle": "2022-01-06T14:09:00.754170Z",
     "shell.execute_reply": "2022-01-06T14:09:00.754706Z",
     "shell.execute_reply.started": "2022-01-06T13:15:47.115022Z"
    },
    "papermill": {
     "duration": 0.029432,
     "end_time": "2022-01-06T14:09:00.755051",
     "exception": false,
     "start_time": "2022-01-06T14:09:00.725619",
     "status": "completed"
    },
    "tags": []
   },
   "outputs": [],
   "source": [
    "import pandas as pd\n",
    "import numpy as np\n",
    "import matplotlib.pyplot as plt\n",
    "import statistics"
   ]
  },
  {
   "cell_type": "code",
   "execution_count": 2,
   "id": "08533361",
   "metadata": {
    "execution": {
     "iopub.execute_input": "2022-01-06T14:09:00.780852Z",
     "iopub.status.busy": "2022-01-06T14:09:00.780116Z",
     "iopub.status.idle": "2022-01-06T14:09:00.800500Z",
     "shell.execute_reply": "2022-01-06T14:09:00.801068Z",
     "shell.execute_reply.started": "2022-01-06T13:15:49.019164Z"
    },
    "papermill": {
     "duration": 0.03532,
     "end_time": "2022-01-06T14:09:00.801255",
     "exception": false,
     "start_time": "2022-01-06T14:09:00.765935",
     "status": "completed"
    },
    "tags": []
   },
   "outputs": [],
   "source": [
    "Data = pd.read_csv(\"../input/student-marks-dataset/Student_Marks.csv\")"
   ]
  },
  {
   "cell_type": "code",
   "execution_count": 3,
   "id": "4eda2b0a",
   "metadata": {
    "execution": {
     "iopub.execute_input": "2022-01-06T14:09:00.826372Z",
     "iopub.status.busy": "2022-01-06T14:09:00.825592Z",
     "iopub.status.idle": "2022-01-06T14:09:00.844977Z",
     "shell.execute_reply": "2022-01-06T14:09:00.845512Z",
     "shell.execute_reply.started": "2022-01-06T13:15:57.928572Z"
    },
    "papermill": {
     "duration": 0.033423,
     "end_time": "2022-01-06T14:09:00.845689",
     "exception": false,
     "start_time": "2022-01-06T14:09:00.812266",
     "status": "completed"
    },
    "tags": []
   },
   "outputs": [
    {
     "name": "stdout",
     "output_type": "stream",
     "text": [
      "    number_courses  time_study   Marks\n",
      "0                3       4.508  19.202\n",
      "96               3       0.301   5.609\n",
      "87               3       1.033   6.053\n",
      "79               3       0.805   6.349\n",
      "75               3       0.803   6.217\n",
      "..             ...         ...     ...\n",
      "59               8       7.468  51.343\n",
      "56               8       7.641  53.359\n",
      "54               8       7.591  53.158\n",
      "85               8       6.201  39.957\n",
      "17               8       6.080  38.490\n",
      "\n",
      "[100 rows x 3 columns]\n"
     ]
    }
   ],
   "source": [
    "Data.sort_values(by=['number_courses'], inplace=True)\n",
    "print(Data)"
   ]
  },
  {
   "cell_type": "code",
   "execution_count": 4,
   "id": "dc05a461",
   "metadata": {
    "execution": {
     "iopub.execute_input": "2022-01-06T14:09:00.872016Z",
     "iopub.status.busy": "2022-01-06T14:09:00.871298Z",
     "iopub.status.idle": "2022-01-06T14:09:00.876825Z",
     "shell.execute_reply": "2022-01-06T14:09:00.877335Z",
     "shell.execute_reply.started": "2022-01-06T13:16:00.013441Z"
    },
    "papermill": {
     "duration": 0.020261,
     "end_time": "2022-01-06T14:09:00.877514",
     "exception": false,
     "start_time": "2022-01-06T14:09:00.857253",
     "status": "completed"
    },
    "tags": []
   },
   "outputs": [
    {
     "name": "stdout",
     "output_type": "stream",
     "text": [
      "24.41769\n"
     ]
    }
   ],
   "source": [
    "print(statistics.mean(Data.Marks))"
   ]
  },
  {
   "cell_type": "markdown",
   "id": "03730176",
   "metadata": {
    "papermill": {
     "duration": 0.011108,
     "end_time": "2022-01-06T14:09:00.900309",
     "exception": false,
     "start_time": "2022-01-06T14:09:00.889201",
     "status": "completed"
    },
    "tags": []
   },
   "source": [
    "lets consider 25 as average passing marks for the class"
   ]
  },
  {
   "cell_type": "code",
   "execution_count": 5,
   "id": "e1955913",
   "metadata": {
    "execution": {
     "iopub.execute_input": "2022-01-06T14:09:00.938116Z",
     "iopub.status.busy": "2022-01-06T14:09:00.937401Z",
     "iopub.status.idle": "2022-01-06T14:09:00.940125Z",
     "shell.execute_reply": "2022-01-06T14:09:00.940621Z",
     "shell.execute_reply.started": "2022-01-06T13:16:06.198907Z"
    },
    "papermill": {
     "duration": 0.028414,
     "end_time": "2022-01-06T14:09:00.940788",
     "exception": false,
     "start_time": "2022-01-06T14:09:00.912374",
     "status": "completed"
    },
    "tags": []
   },
   "outputs": [
    {
     "name": "stdout",
     "output_type": "stream",
     "text": [
      "    number_courses  time_study   Marks  Pass_or_Fail\n",
      "0                3       4.508  19.202             0\n",
      "96               3       0.301   5.609             0\n",
      "87               3       1.033   6.053             0\n",
      "79               3       0.805   6.349             0\n",
      "75               3       0.803   6.217             0\n",
      "..             ...         ...     ...           ...\n",
      "59               8       7.468  51.343             1\n",
      "56               8       7.641  53.359             1\n",
      "54               8       7.591  53.158             1\n",
      "85               8       6.201  39.957             1\n",
      "17               8       6.080  38.490             1\n",
      "\n",
      "[100 rows x 4 columns]\n"
     ]
    }
   ],
   "source": [
    "Pass_or_Fail = []\n",
    "for row in Data['Marks']:\n",
    "    if row <= 25.0 :\n",
    "        Pass_or_Fail.append(0)\n",
    "    else:\n",
    "        Pass_or_Fail.append(1)\n",
    "Data['Pass_or_Fail'] =Pass_or_Fail\n",
    "print(Data)"
   ]
  },
  {
   "cell_type": "markdown",
   "id": "68b2438a",
   "metadata": {
    "papermill": {
     "duration": 0.012492,
     "end_time": "2022-01-06T14:09:00.965051",
     "exception": false,
     "start_time": "2022-01-06T14:09:00.952559",
     "status": "completed"
    },
    "tags": []
   },
   "source": [
    "Taking the number of course and time_study as features and pass or fail as dependent variable"
   ]
  },
  {
   "cell_type": "code",
   "execution_count": 6,
   "id": "0afc2a49",
   "metadata": {
    "execution": {
     "iopub.execute_input": "2022-01-06T14:09:00.993034Z",
     "iopub.status.busy": "2022-01-06T14:09:00.992264Z",
     "iopub.status.idle": "2022-01-06T14:09:00.996750Z",
     "shell.execute_reply": "2022-01-06T14:09:00.997356Z",
     "shell.execute_reply.started": "2022-01-06T13:21:34.777237Z"
    },
    "papermill": {
     "duration": 0.020116,
     "end_time": "2022-01-06T14:09:00.997553",
     "exception": false,
     "start_time": "2022-01-06T14:09:00.977437",
     "status": "completed"
    },
    "tags": []
   },
   "outputs": [],
   "source": [
    "x = Data.iloc[:,1:2].values\n",
    "y = Data.iloc[:, -1].values"
   ]
  },
  {
   "cell_type": "code",
   "execution_count": 7,
   "id": "83073151",
   "metadata": {
    "execution": {
     "iopub.execute_input": "2022-01-06T14:09:01.025662Z",
     "iopub.status.busy": "2022-01-06T14:09:01.024975Z",
     "iopub.status.idle": "2022-01-06T14:09:02.152326Z",
     "shell.execute_reply": "2022-01-06T14:09:02.152825Z",
     "shell.execute_reply.started": "2022-01-06T13:23:01.024562Z"
    },
    "papermill": {
     "duration": 1.143242,
     "end_time": "2022-01-06T14:09:02.153012",
     "exception": false,
     "start_time": "2022-01-06T14:09:01.009770",
     "status": "completed"
    },
    "tags": []
   },
   "outputs": [],
   "source": [
    "from sklearn.model_selection import train_test_split\n",
    "x_train, x_test, y_train, y_test = train_test_split(x,y, test_size = 0.25, random_state = 0)"
   ]
  },
  {
   "cell_type": "code",
   "execution_count": 8,
   "id": "8f308bdb",
   "metadata": {
    "execution": {
     "iopub.execute_input": "2022-01-06T14:09:02.183835Z",
     "iopub.status.busy": "2022-01-06T14:09:02.182739Z",
     "iopub.status.idle": "2022-01-06T14:09:02.184668Z",
     "shell.execute_reply": "2022-01-06T14:09:02.185184Z",
     "shell.execute_reply.started": "2022-01-06T13:23:03.260090Z"
    },
    "papermill": {
     "duration": 0.019709,
     "end_time": "2022-01-06T14:09:02.185347",
     "exception": false,
     "start_time": "2022-01-06T14:09:02.165638",
     "status": "completed"
    },
    "tags": []
   },
   "outputs": [],
   "source": [
    "y_train.reshape(len(y_train),1);"
   ]
  },
  {
   "cell_type": "code",
   "execution_count": 9,
   "id": "90043851",
   "metadata": {
    "execution": {
     "iopub.execute_input": "2022-01-06T14:09:02.215519Z",
     "iopub.status.busy": "2022-01-06T14:09:02.214862Z",
     "iopub.status.idle": "2022-01-06T14:09:02.816201Z",
     "shell.execute_reply": "2022-01-06T14:09:02.816713Z",
     "shell.execute_reply.started": "2022-01-06T14:07:38.792093Z"
    },
    "papermill": {
     "duration": 0.61966,
     "end_time": "2022-01-06T14:09:02.816900",
     "exception": false,
     "start_time": "2022-01-06T14:09:02.197240",
     "status": "completed"
    },
    "tags": []
   },
   "outputs": [
    {
     "data": {
      "text/plain": [
       "<AxesSubplot:xlabel='time_study', ylabel='Pass_or_Fail'>"
      ]
     },
     "execution_count": 9,
     "metadata": {},
     "output_type": "execute_result"
    },
    {
     "data": {
      "image/png": "[encoded data removed]",
      "text/plain": [
       "<Figure size 432x288 with 1 Axes>"
      ]
     },
     "metadata": {
      "needs_background": "light"
     },
     "output_type": "display_data"
    }
   ],
   "source": [
    "from sklearn.linear_model import LogisticRegression\n",
    "import seaborn as sns\n",
    "reg = LogisticRegression(random_state = 0)\n",
    "reg.fit(x_train, y_train)\n",
    "y_predict = reg.predict (x_test)\n",
    "sns.regplot(x = 'time_study', y = 'Pass_or_Fail', data = Data, logistic=True, ci=None)"
   ]
  },
  {
   "cell_type": "code",
   "execution_count": 10,
   "id": "a099f1b4",
   "metadata": {
    "execution": {
     "iopub.execute_input": "2022-01-06T14:09:02.848120Z",
     "iopub.status.busy": "2022-01-06T14:09:02.847077Z",
     "iopub.status.idle": "2022-01-06T14:09:02.858399Z",
     "shell.execute_reply": "2022-01-06T14:09:02.859063Z",
     "shell.execute_reply.started": "2022-01-06T14:08:03.922933Z"
    },
    "papermill": {
     "duration": 0.029528,
     "end_time": "2022-01-06T14:09:02.859294",
     "exception": false,
     "start_time": "2022-01-06T14:09:02.829766",
     "status": "completed"
    },
    "tags": []
   },
   "outputs": [
    {
     "name": "stdout",
     "output_type": "stream",
     "text": [
      "[[15  1]\n",
      " [ 0  9]]\n"
     ]
    },
    {
     "data": {
      "text/plain": [
       "0.96"
      ]
     },
     "execution_count": 10,
     "metadata": {},
     "output_type": "execute_result"
    }
   ],
   "source": [
    "from sklearn.metrics import confusion_matrix,accuracy_score \n",
    "cm = confusion_matrix(y_test,y_predict)\n",
    "print(cm)\n",
    "accuracy_score(y_test, y_predict)"
   ]
  }
 ],
 "metadata": {
  "kernelspec": {
   "display_name": "Python 3",
   "language": "python",
   "name": "python3"
  },
  "language_info": {
   "codemirror_mode": {
    "name": "ipython",
    "version": 3
   },
   "file_extension": ".py",
   "mimetype": "text/x-python",
   "name": "python",
   "nbconvert_exporter": "python",
   "pygments_lexer": "ipython3",
   "version": "3.7.12"
  },
  "papermill": {
   "default_parameters": {},
   "duration": 13.097162,
   "end_time": "2022-01-06T14:09:03.583609",
   "environment_variables": {},
   "exception": null,
   "input_path": "__notebook__.ipynb",
   "output_path": "__notebook__.ipynb",
   "parameters": {},
   "start_time": "2022-01-06T14:08:50.486447",
   "version": "2.3.3"
  }
 },
 "nbformat": 4,
 "nbformat_minor": 5
}
